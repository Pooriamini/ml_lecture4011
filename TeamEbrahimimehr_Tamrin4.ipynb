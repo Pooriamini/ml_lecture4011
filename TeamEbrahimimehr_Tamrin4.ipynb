{
 "cells": [
  {
   "cell_type": "code",
   "execution_count": null,
   "outputs": [],
   "source": [
    "import numpy as np\n",
    "import pandas as pd"
   ],
   "metadata": {
    "collapsed": false,
    "pycharm": {
     "name": "#%%\n"
    }
   }
  },
  {
   "cell_type": "code",
   "execution_count": null,
   "outputs": [],
   "source": [
    "df_iris = pd.read_csv('iris.txt', sep= ',', header= None)"
   ],
   "metadata": {
    "collapsed": false,
    "pycharm": {
     "name": "#%%\n"
    }
   }
  },
  {
   "cell_type": "markdown",
   "source": [
    "## Dot Product Kernel"
   ],
   "metadata": {
    "collapsed": false
   }
  },
  {
   "cell_type": "code",
   "execution_count": null,
   "outputs": [],
   "source": [
    "df_iris = df_iris.drop(4, axis=1)\n",
    "DotProduct = df_iris.dot(df_iris.T)\n",
    "df_DotProduct = pd.DataFrame(DotProduct)\n",
    "df_DotProduct"
   ],
   "metadata": {
    "collapsed": false,
    "pycharm": {
     "name": "#%%\n"
    }
   }
  },
  {
   "cell_type": "markdown",
   "source": [
    "## Gaussian Kernel"
   ],
   "metadata": {
    "collapsed": false
   }
  },
  {
   "cell_type": "code",
   "execution_count": null,
   "outputs": [],
   "source": [
    "def gaussian(a, b, std):\n",
    "    from numpy.linalg import norm\n",
    "    return np.exp(np.divide(norm(np.subtract(a, b))**2, -2 * std**2))\n",
    "\n",
    "Gaussian = np.zeros((150, 150))\n",
    "for i in range(0, 150):\n",
    "    for j in range(0, 150):\n",
    "        Gaussian[i, j] = np.round(gaussian(df_iris.loc[i][:], df_iris.loc[j][:], 0.73), 3)\n",
    "df_Gaussian = pd.DataFrame(Gaussian)\n",
    "df_Gaussian"
   ],
   "metadata": {
    "collapsed": false,
    "pycharm": {
     "name": "#%%\n"
    }
   }
  },
  {
   "cell_type": "code",
   "execution_count": null,
   "outputs": [],
   "source": [],
   "metadata": {
    "collapsed": false,
    "pycharm": {
     "name": "#%%\n"
    }
   }
  }
 ],
 "metadata": {
  "kernelspec": {
   "display_name": "Python 3",
   "language": "python",
   "name": "python3"
  },
  "language_info": {
   "codemirror_mode": {
    "name": "ipython",
    "version": 2
   },
   "file_extension": ".py",
   "mimetype": "text/x-python",
   "name": "python",
   "nbconvert_exporter": "python",
   "pygments_lexer": "ipython2",
   "version": "2.7.6"
  }
 },
 "nbformat": 4,
 "nbformat_minor": 0
}