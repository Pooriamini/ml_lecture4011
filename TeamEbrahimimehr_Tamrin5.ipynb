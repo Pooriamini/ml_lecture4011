{
 "cells": [
  {
   "cell_type": "code",
   "execution_count": null,
   "outputs": [],
   "source": [
    "import pandas as pd\n",
    "from mlxtend.preprocessing import TransactionEncoder\n",
    "from mlxtend.frequent_patterns import apriori, association_rules"
   ],
   "metadata": {
    "collapsed": false,
    "pycharm": {
     "name": "#%%\n"
    }
   }
  },
  {
   "cell_type": "markdown",
   "source": [
    "# Example 1: Simple use of algorithm"
   ],
   "metadata": {
    "collapsed": false
   }
  },
  {
   "cell_type": "markdown",
   "source": [
    "## Creating Dataset"
   ],
   "metadata": {
    "collapsed": false
   }
  },
  {
   "cell_type": "code",
   "execution_count": null,
   "outputs": [],
   "source": [
    "basket_lists = [['Milk', 'Onion', 'Nutmeg', 'Kidney Beans', 'Eggs', 'Yogurt'],\n",
    "                ['Dill', 'Onion', 'Nutmeg', 'Kidney Beans', 'Eggs', 'Yogurt'],\n",
    "                ['Milk', 'Apple', 'Kidney Beans', 'Eggs'],\n",
    "                ['Milk', 'Unicorn', 'Corn', 'Kidney Beans', 'Yogurt'],\n",
    "                ['Corn', 'Onion', 'Onion', 'Kidney Beans', 'Ice cream', 'Eggs']]\n",
    "\n",
    "trans_encoder = TransactionEncoder()\n",
    "encoded_baskets = trans_encoder.fit(basket_lists).transform(basket_lists)\n",
    "dataset_df = pd.DataFrame(encoded_baskets, columns= trans_encoder.columns_)\n",
    "dataset_df"
   ],
   "metadata": {
    "collapsed": false,
    "pycharm": {
     "name": "#%%\n"
    }
   }
  },
  {
   "cell_type": "markdown",
   "source": [
    "## Computing support values"
   ],
   "metadata": {
    "collapsed": false
   }
  },
  {
   "cell_type": "code",
   "execution_count": null,
   "outputs": [],
   "source": [
    "apriori(dataset_df, min_support= 0.6, use_colnames= True)"
   ],
   "metadata": {
    "collapsed": false,
    "pycharm": {
     "name": "#%%\n"
    }
   }
  },
  {
   "cell_type": "markdown",
   "source": [
    "# Example2: Association rule mining"
   ],
   "metadata": {
    "collapsed": false
   }
  },
  {
   "cell_type": "markdown",
   "source": [
    "## Loading dataset"
   ],
   "metadata": {
    "collapsed": false
   }
  },
  {
   "cell_type": "code",
   "execution_count": null,
   "outputs": [],
   "source": [
    "basket_df = pd.read_excel('Online Retail.xlsx')\n",
    "basket_df.head()"
   ],
   "metadata": {
    "collapsed": false,
    "pycharm": {
     "name": "#%%\n"
    }
   }
  },
  {
   "cell_type": "markdown",
   "source": [
    "### Dataset description"
   ],
   "metadata": {
    "collapsed": false
   }
  },
  {
   "cell_type": "raw",
   "source": [
    "Detailed overview of dataset\n",
    "\n",
    "    - Records in the dataset = 525461 ROWS\n",
    "\n",
    "    - Columns in the dataset  = 8 COLUMNS\n",
    "\n",
    "    - InvoiceNo: A 6-digit integral number uniquely assigned to each transaction.\n",
    "                 If this code starts with letter 'C', it indicates a cancellation (Nominal)\n",
    "\n",
    "    - StockCode:  A 5-digit integral number uniquely assigned to each distinct product (Nominal)\n",
    "\n",
    "    - Description: Product (item) name. (Nominal)\n",
    "\n",
    "    - Quantity: The quantities of each product (item) per transaction ( Numeric)\n",
    "\n",
    "    - InvoiceDate:  The day and time when each transaction was generated (Numeric)\n",
    "\n",
    "    - UnitPrice: Product price per unit in sterling (Numeric)\n",
    "\n",
    "    - CustomerID:  A 5-digit integral number uniquely assigned to each customer (Nominal)\n",
    "\n",
    "    - Country:  Name of the country where each customer resides (Nominal)"
   ],
   "metadata": {
    "collapsed": false
   }
  },
  {
   "cell_type": "markdown",
   "source": [
    "## Some basic exploratory"
   ],
   "metadata": {
    "collapsed": false
   }
  },
  {
   "cell_type": "code",
   "execution_count": null,
   "outputs": [],
   "source": [
    "basket_df.shape"
   ],
   "metadata": {
    "collapsed": false,
    "pycharm": {
     "name": "#%%\n"
    }
   }
  },
  {
   "cell_type": "code",
   "execution_count": null,
   "outputs": [],
   "source": [
    "basket_df.dtypes"
   ],
   "metadata": {
    "collapsed": false,
    "pycharm": {
     "name": "#%%\n"
    }
   }
  },
  {
   "cell_type": "code",
   "execution_count": null,
   "outputs": [],
   "source": [
    "basket_df.isna().sum()"
   ],
   "metadata": {
    "collapsed": false,
    "pycharm": {
     "name": "#%%\n"
    }
   }
  },
  {
   "cell_type": "code",
   "execution_count": null,
   "outputs": [],
   "source": [
    "canceled = basket_df.loc[basket_df['InvoiceNo'].str.contains('C') == True]\n",
    "canceled.shape"
   ],
   "metadata": {
    "collapsed": false,
    "pycharm": {
     "name": "#%%\n"
    }
   }
  },
  {
   "cell_type": "markdown",
   "source": [
    "## Cleansing dataset"
   ],
   "metadata": {
    "collapsed": false
   }
  },
  {
   "cell_type": "code",
   "execution_count": null,
   "outputs": [],
   "source": [
    "basket_df['Description'] = basket_df['Description'].str.strip()\n",
    "# removing canceled records\n",
    "basket_df.drop(canceled.index, inplace= True)\n",
    "print(f'{canceled.shape[0]} has removed from dataset, new dataset size is {basket_df.shape[0]}')"
   ],
   "metadata": {
    "collapsed": false,
    "pycharm": {
     "name": "#%%\n"
    }
   }
  },
  {
   "cell_type": "markdown",
   "source": [
    "## Preparing dataset for analysing"
   ],
   "metadata": {
    "collapsed": false
   }
  },
  {
   "cell_type": "markdown",
   "source": [
    "### Selecting one region (France)"
   ],
   "metadata": {
    "collapsed": false
   }
  },
  {
   "cell_type": "code",
   "execution_count": null,
   "outputs": [],
   "source": [
    "france_basket = basket_df.loc[basket_df['Country'] == 'France']\n",
    "france_basket.shape"
   ],
   "metadata": {
    "collapsed": false,
    "pycharm": {
     "name": "#%%\n"
    }
   }
  },
  {
   "cell_type": "markdown",
   "source": [
    "### Creating transaction, items set"
   ],
   "metadata": {
    "collapsed": false
   }
  },
  {
   "cell_type": "code",
   "execution_count": null,
   "outputs": [],
   "source": [
    "basket = []\n",
    "transaction_nom = []\n",
    "for transaction, items in france_basket.groupby('InvoiceNo').groups.items():\n",
    "    products = []\n",
    "    transaction_nom.append(transaction)\n",
    "    for item in items:\n",
    "        products.append(str(france_basket.loc[item]['Description']))\n",
    "    basket.append(products)"
   ],
   "metadata": {
    "collapsed": false,
    "pycharm": {
     "name": "#%%\n"
    }
   }
  },
  {
   "cell_type": "markdown",
   "source": [
    "### creating binary dataset"
   ],
   "metadata": {
    "collapsed": false
   }
  },
  {
   "cell_type": "code",
   "execution_count": null,
   "outputs": [],
   "source": [
    "trans_encoder = TransactionEncoder()\n",
    "encoded_baskets = trans_encoder.fit(basket).transform(basket)\n",
    "binary_df = pd.DataFrame(encoded_baskets, columns= trans_encoder.columns_, index= transaction_nom)\n",
    "binary_df"
   ],
   "metadata": {
    "collapsed": false,
    "pycharm": {
     "name": "#%%\n"
    }
   }
  },
  {
   "cell_type": "markdown",
   "source": [
    "### Association extraction(Recommendation based on antecedents)"
   ],
   "metadata": {
    "collapsed": false
   }
  },
  {
   "cell_type": "code",
   "execution_count": null,
   "outputs": [],
   "source": [
    "frequencies_items = apriori(binary_df, min_support= 0.05, use_colnames= True)\n",
    "rules = association_rules(frequencies_items, metric= \"lift\", min_threshold= 1)\n",
    "rules = rules.sort_values(['confidence', 'lift'], ascending= [False, False])\n",
    "rules.reset_index(inplace= True, drop= True)\n",
    "rules.head()"
   ],
   "metadata": {
    "collapsed": false,
    "pycharm": {
     "name": "#%%\n"
    }
   }
  },
  {
   "cell_type": "markdown",
   "source": [
    "### Filtering results"
   ],
   "metadata": {
    "collapsed": false
   }
  },
  {
   "cell_type": "code",
   "execution_count": null,
   "outputs": [],
   "source": [
    "condition0 = rules.antecedents.apply(lambda x: False if 'POSTAGE' in x else True)\n",
    "condition1 = rules.consequents.apply(lambda x: False if 'POSTAGE' in x else True)\n",
    "condition2 = rules['antecedents'].apply(lambda x: len(x) >= 2)\n",
    "rules.loc[condition0 & condition1 & condition2]"
   ],
   "metadata": {
    "collapsed": false,
    "pycharm": {
     "name": "#%%\n"
    }
   }
  },
  {
   "cell_type": "markdown",
   "source": [
    "# Exercise1"
   ],
   "metadata": {
    "collapsed": false
   }
  },
  {
   "cell_type": "raw",
   "source": [
    "در قواعد بدست آمده از کد کالا استفاده شده است. قواعد را با استفاده از توضیح هر کد کالا برای کاربرقابل فهم کنید. به عبارت دیگر بجای کد کالا از توضیح یا نام کالا استفاده کنید.\n"
   ],
   "metadata": {
    "collapsed": false
   }
  },
  {
   "cell_type": "markdown",
   "source": [
    "### Line 137, 170 and 171 changed"
   ],
   "metadata": {
    "collapsed": false
   }
  },
  {
   "cell_type": "markdown",
   "source": [
    "# Exercise2"
   ],
   "metadata": {
    "collapsed": false
   }
  },
  {
   "cell_type": "raw",
   "source": [
    "بررسی کنید قواعد بدست آمده از تحلیل سبد خرید فرانسوی های چقدر مشابه قوانین سبد خرید سوئیس هاست.\n",
    "به عبارت دیگر با چه احتمالی می توان قواعد بدست آمده از تحلیل سبد خرید فرانسویان را به سبد خرید سوئیسی ها تعمیم داد.\n"
   ],
   "metadata": {
    "collapsed": false
   }
  },
  {
   "cell_type": "code",
   "execution_count": null,
   "outputs": [],
   "source": [
    "switzerland_basket = basket_df.loc[basket_df['Country'] == 'Switzerland']"
   ],
   "metadata": {
    "collapsed": false,
    "pycharm": {
     "name": "#%%\n"
    }
   }
  },
  {
   "cell_type": "code",
   "execution_count": null,
   "outputs": [],
   "source": [
    "basket_2 = []\n",
    "transaction_nom_2 = []\n",
    "for transaction, items in switzerland_basket.groupby('InvoiceNo').groups.items():\n",
    "    products_2 = []\n",
    "    transaction_nom_2.append(transaction)\n",
    "    for item in items:\n",
    "        products_2.append(str(switzerland_basket.loc[item]['Description']))\n",
    "    basket_2.append(products_2)"
   ],
   "metadata": {
    "collapsed": false,
    "pycharm": {
     "name": "#%%\n"
    }
   }
  },
  {
   "cell_type": "code",
   "execution_count": null,
   "outputs": [],
   "source": [
    "trans_encoder = TransactionEncoder()\n",
    "encoded_baskets_2 = trans_encoder.fit(basket_2).transform(basket_2)\n",
    "binary_df_2 = pd.DataFrame(encoded_baskets_2, columns= trans_encoder.columns_, index= transaction_nom_2)\n",
    "binary_df_2"
   ],
   "metadata": {
    "collapsed": false,
    "pycharm": {
     "name": "#%%\n"
    }
   }
  },
  {
   "cell_type": "code",
   "execution_count": null,
   "outputs": [],
   "source": [
    "frequencies_items_2 = apriori(binary_df_2, min_support= 0.06, use_colnames= True)\n",
    "rules_2 = association_rules(frequencies_items_2, metric= \"lift\", min_threshold= 1)\n",
    "rules_2 = rules_2.sort_values(['confidence', 'lift'], ascending= [False, False])\n",
    "rules_2.reset_index(inplace= True, drop= True)\n",
    "rules_2.head()"
   ],
   "metadata": {
    "collapsed": false,
    "pycharm": {
     "name": "#%%\n"
    }
   }
  },
  {
   "cell_type": "code",
   "execution_count": null,
   "outputs": [],
   "source": [
    "condition0_2 = rules_2.antecedents.apply(lambda x: False if 'POSTAGE' in x else True)\n",
    "condition1_2 = rules_2.consequents.apply(lambda x: False if 'POSTAGE' in x else True)\n",
    "condition2_2 = rules_2['antecedents'].apply(lambda x: len(x) >= 2)\n",
    "rules_2.loc[condition0_2 & condition1_2 & condition2_2]"
   ],
   "metadata": {
    "collapsed": false,
    "pycharm": {
     "name": "#%%\n"
    }
   }
  },
  {
   "cell_type": "code",
   "execution_count": null,
   "outputs": [],
   "source": [],
   "metadata": {
    "collapsed": false,
    "pycharm": {
     "name": "#%%\n"
    }
   }
  }
 ],
 "metadata": {
  "kernelspec": {
   "display_name": "Python 3",
   "language": "python",
   "name": "python3"
  },
  "language_info": {
   "codemirror_mode": {
    "name": "ipython",
    "version": 2
   },
   "file_extension": ".py",
   "mimetype": "text/x-python",
   "name": "python",
   "nbconvert_exporter": "python",
   "pygments_lexer": "ipython2",
   "version": "2.7.6"
  }
 },
 "nbformat": 4,
 "nbformat_minor": 0
}